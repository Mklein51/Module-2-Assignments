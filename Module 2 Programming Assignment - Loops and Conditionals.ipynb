{
 "cells": [
  {
   "cell_type": "code",
   "execution_count": 2,
   "id": "8148520f-6a0f-4fe4-8060-c16cc9d27f42",
   "metadata": {},
   "outputs": [
    {
     "name": "stdout",
     "output_type": "stream",
     "text": [
      "'Just Right'\n"
     ]
    }
   ],
   "source": [
    "\"\"\"Things to do 4.1\"\"\"\n",
    "secret = 5\n",
    "guess = 5\n",
    "\n",
    "if guess < secret:\n",
    "    print(\"'Too Low'\")\n",
    "elif guess > secret:\n",
    "    print(\"'Too High'\")\n",
    "else:\n",
    "    print(\"'Just Right'\")"
   ]
  },
  {
   "cell_type": "code",
   "execution_count": 4,
   "id": "e6eacafe-0195-4df5-99c1-d91164b6bec0",
   "metadata": {},
   "outputs": [
    {
     "name": "stdout",
     "output_type": "stream",
     "text": [
      "pea\n"
     ]
    }
   ],
   "source": [
    "\"\"\"Things to do 4.2\"\"\"\n",
    "small = True\n",
    "green= True\n",
    "\n",
    "if small == True:\n",
    "    if green == True:\n",
    "        print(\"pea\")\n",
    "    else:\n",
    "        print(\"Cherry\")\n",
    "if small != True:\n",
    "    if green != True:\n",
    "        print(\"Pumpkin\")\n",
    "    else:\n",
    "        print(\"Watermelon\")"
   ]
  },
  {
   "cell_type": "code",
   "execution_count": 16,
   "id": "d0049aa3-6f77-42e3-aa36-6acfce765c5c",
   "metadata": {},
   "outputs": [
    {
     "name": "stdout",
     "output_type": "stream",
     "text": [
      "[3, 2, 1, 0]\n"
     ]
    }
   ],
   "source": [
    "\"\"\"Things to do 6.1\"\"\"\n",
    "answer = []\n",
    "for x in list(range(3, -1, -1)):\n",
    "    answer.append(x)\n",
    "\n",
    "print(answer)"
   ]
  },
  {
   "cell_type": "code",
   "execution_count": 18,
   "id": "0bc248d0-3504-4a8d-a32f-7d8efa830890",
   "metadata": {},
   "outputs": [
    {
     "name": "stdout",
     "output_type": "stream",
     "text": [
      "Too low\n",
      "Too low\n",
      "Too low\n",
      "Too low\n",
      "Too low\n",
      "Too low\n",
      "Found it!\n"
     ]
    }
   ],
   "source": [
    "\"\"\"Things to do 6.2\"\"\"\n",
    "guess_me = 7\n",
    "number = 1\n",
    "\n",
    "while True:\n",
    "    if number < guess_me:\n",
    "        print(\"Too low\")\n",
    "    elif number == guess_me:\n",
    "        print(\"Found it!\")\n",
    "        break\n",
    "    else:\n",
    "        print(\"Oops\")\n",
    "        break\n",
    "    number += 1"
   ]
  },
  {
   "cell_type": "code",
   "execution_count": 22,
   "id": "b0c4d660-2502-4323-bf2a-5714a8de24c9",
   "metadata": {},
   "outputs": [
    {
     "name": "stdout",
     "output_type": "stream",
     "text": [
      "Too Low\n",
      "Too Low\n",
      "Too Low\n",
      "Too Low\n",
      "Too Low\n",
      "Found it!\n"
     ]
    }
   ],
   "source": [
    "\"\"\"Things to do 6.3\"\"\"\n",
    "\n",
    "guess_me = 5\n",
    "\n",
    "for number in range(10):\n",
    "    if number < guess_me:\n",
    "        print(\"Too Low\")\n",
    "    elif number == guess_me:\n",
    "        print(\"Found it!\")\n",
    "        break\n",
    "    elif number > guess_me:\n",
    "        print(\"oops\")\n",
    "        break"
   ]
  },
  {
   "cell_type": "code",
   "execution_count": null,
   "id": "ccf0a2ef-5634-421a-afd1-bb8e73aae03c",
   "metadata": {},
   "outputs": [],
   "source": []
  }
 ],
 "metadata": {
  "kernelspec": {
   "display_name": "Python [conda env:base] *",
   "language": "python",
   "name": "conda-base-py"
  },
  "language_info": {
   "codemirror_mode": {
    "name": "ipython",
    "version": 3
   },
   "file_extension": ".py",
   "mimetype": "text/x-python",
   "name": "python",
   "nbconvert_exporter": "python",
   "pygments_lexer": "ipython3",
   "version": "3.12.7"
  }
 },
 "nbformat": 4,
 "nbformat_minor": 5
}
